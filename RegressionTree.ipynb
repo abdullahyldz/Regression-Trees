{
 "cells": [
  {
   "cell_type": "markdown",
   "metadata": {},
   "source": [
    "<h1><center>CMPE 462 - Quiz 4&5 <br>Implementing a Regression Tree<br>Due: May 5, 2020, 23:59</center></h1>"
   ]
  },
  {
   "cell_type": "markdown",
   "metadata": {},
   "source": [
    "# Introduction\n",
    "\n",
    "Decision trees can learn rules to map features to both continous and discrete outputs. In this quiz, you will consider the continous case and implement a regression tree to predict house prices in Boston. You will also conduct small data analysis and evaluation procedures. This notebook will guide you through."
   ]
  },
  {
   "cell_type": "markdown",
   "metadata": {},
   "source": [
    "## (10 pts) Task 1: Dataset "
   ]
  },
  {
   "cell_type": "markdown",
   "metadata": {},
   "source": [
    "Run the cells below to load Boston house prices dataset using `scikit-learn`. You can find more detail on the dataset [here](https://scikit-learn.org/stable/datasets/index.html#boston-dataset). **Please use the train and test matrices we prepared for you :)**"
   ]
  },
  {
   "cell_type": "code",
   "execution_count": 1,
   "metadata": {},
   "outputs": [],
   "source": [
    "import numpy as np\n",
    "from sklearn.datasets import load_boston\n",
    "import seaborn as sns\n",
    "import matplotlib.pyplot as plt\n",
    "import random\n",
    "import math\n",
    "from prettytable import PrettyTable\n",
    "from sklearn.metrics import r2_score"
   ]
  },
  {
   "cell_type": "code",
   "execution_count": 2,
   "metadata": {},
   "outputs": [],
   "source": [
    "boston = load_boston()\n",
    "X_y = np.column_stack([boston['data'], boston['target']])\n",
    "np.random.seed(4)\n",
    "np.random.shuffle(X_y)\n",
    "X, y = X_y[:,:-1], X_y[:,-1]\n",
    "X_train, y_train = X[:400], y[:400]\n",
    "X_test, y_test = X[400:], y[400:]\n",
    "features = np.array(boston['feature_names'])\n",
    "del X, y, X_y"
   ]
  },
  {
   "cell_type": "markdown",
   "metadata": {},
   "source": [
    "**(10 pts)** Unlike the dataset in Project 1, Boston dataset is high-dimensional and we cannot observe the relations between all features and the output with a single scatter plot. What we can do is to visualize the correlations between both features and house prices using a heatmap. So, stack the features and the outputs in a single matrix and compute correlation between all pairs of columns. Visualize the correlation coefficient matrix as a heatmap, which is $(N+1)x(N+1)$, where $N$ is the number of features in Boston dataset. You can check out `corrcoef` and `heatmap` functions from `numpy` and `seaborn` libraries, respectively. You can use diverging color palette to emphasize both positive and negative correlations.\n",
    "\n",
    "Do you observe strong correlations between any pair of features or certain features and house price? "
   ]
  },
  {
   "cell_type": "code",
   "execution_count": 3,
   "metadata": {},
   "outputs": [
    {
     "data": {
      "text/plain": [
       "array([-0.38144981,  0.39413622, -0.50838718,  0.1686933 , -0.43151741,\n",
       "        0.7080671 , -0.39113286,  0.26425479, -0.38740808, -0.49077696,\n",
       "       -0.53162554,  0.32203003, -0.73962277,  1.        ])"
      ]
     },
     "execution_count": 3,
     "metadata": {},
     "output_type": "execute_result"
    },
    {
     "data": {
      "image/png": "[encoded data removed]",
      "text/plain": [
       "<Figure size 432x288 with 2 Axes>"
      ]
     },
     "metadata": {
      "needs_background": "light"
     },
     "output_type": "display_data"
    }
   ],
   "source": [
    "# Add target to the end of the training data\n",
    "allInOneMatrix = np.concatenate((X_train, y_train[:, None]), axis=1)\n",
    "featureLabels = np.append(features, np.array('PRICE'))  # add missing feature to features list\n",
    "features = list(features) # A list that stores all the features in order.\n",
    "\n",
    "# create the correlation matrix using numpy.corrcoef\n",
    "# rowvar = False parameter means that each row is a data and the columns are features\n",
    "# It calculates correlation between features and returns a 14x14 matrix\n",
    "correlationMatrix = np.corrcoef(allInOneMatrix, rowvar=False)\n",
    "\n",
    "cmap = plt.cm.jet  # define the colormap for heatmap\n",
    "\n",
    "# red color indicates high positive correlation\n",
    "# blue color indicates high negative correlation\n",
    "# ticklabels are  shown at edges. feature names\n",
    "sns.heatmap(correlationMatrix,  cmap=cmap, xticklabels=featureLabels, yticklabels=featureLabels)\n",
    "correlationMatrix[:, -1]"
   ]
  },
  {
   "cell_type": "markdown",
   "metadata": {},
   "source": [
    "Heatmap chart is really helpful in quickly analyzing the features' effect to the target in the dataset. \n",
    "<br>\n",
    "\n",
    "To look at the correlations of features with the 'PRICE' taget, please take a look at the last column or last row. The correlation matrix is symmetrical, so it does not matter which one to pick! I will look at <strong>last column</strong>\n",
    "<br>\n",
    "<br> \n",
    "Warm colors are indication of a strong positive correlations. \n",
    "As I mentioned above, the colors in the heatmap are selected carefully to give an idea of the correlation intensity. If you look at the 6.row ('RM'), this feature has correlation with 'PRICE' of about 0.75 which shows that 'RM' feature really play a role in the house prices in Boston. \n",
    "<br>\n",
    "<br> \n",
    "Cold colors are indication of a strong negative correlations. \n",
    "If you look at the 3rd, 11th and 13th rows ('INDUS', 'PTRATIO', 'LSTAT'), these features have very strong negative correlations with prices. So, the more these feature values, the less the house prices in Boston. \n",
    "<br>\n",
    "<br>\n",
    "There are also features that does not much affect the prices. For example, 'CHAS' has 14% correlations with 'PRICE' which is low compared to others.  "
   ]
  },
  {
   "cell_type": "markdown",
   "metadata": {},
   "source": [
    "## (80 pts) Task 2: Regression Tree\n"
   ]
  },
  {
   "cell_type": "markdown",
   "metadata": {},
   "source": [
    "**(15 pts)** Let us now build the regression tree. We start by implementing the splitting criteria which is used to decide the most discriminative features at each step. We stick to lecture notes and use $RSS$ which is computed as follows:\n",
    "\n",
    "$$RSS =\\sum_{\\text {left }}\\left(y_{i}-y_{L}^{*}\\right)^{2}+\\sum_{\\text {right }}\\left(y_{i}-y_{R}^{*}\\right)^{2}$$\n",
    "\n",
    "where $y_L^* and y_L^*$ are mean y-value of left and right nodes.\n",
    "\n",
    "When you implement $RSS$, pick the most correlated and least correlated feature with the output prices according to previous step. Note that correlation can be both positive and negative! For both features, compute $RSS$ for every possible split threshold and plot thresholds versus RSS scores.\n",
    "\n",
    "Do two features display different characteristics?"
   ]
  },
  {
   "cell_type": "code",
   "execution_count": 4,
   "metadata": {},
   "outputs": [
    {
     "name": "stdout",
     "output_type": "stream",
     "text": [
      "Most Correlated Feature:  LSTAT \n",
      "Least Correlated Feature:  CHAS\n"
     ]
    }
   ],
   "source": [
    "# This part takes the last row of correlation matrix and sorts it\n",
    "# While sorting it, the features names' list is sorted, too.\n",
    "correlations = [abs(elem) for elem in correlationMatrix[-1:][0][:-1]] \n",
    "featureList = features.copy() # Make a copy of features list for sorting purposes\n",
    "# correlations and featuresList are sorted the same way\n",
    "correlations, featureList = (list(t) for t in zip(*sorted(zip(correlations, featureList), reverse=True)))\n",
    "# Correlations and features are sorted with same procedure.\n",
    "most_correlated_feature = featureList[0]\n",
    "least_correlated_feature = featureList[-1]\n",
    "print('Most Correlated Feature: ', most_correlated_feature, '\\nLeast Correlated Feature: ', least_correlated_feature)"
   ]
  },
  {
   "cell_type": "code",
   "execution_count": 5,
   "metadata": {},
   "outputs": [],
   "source": [
    "# Given a feature name, returns the column index of that feature.\n",
    "def getColumnIndex(features, feature):\n",
    "    return features.index(feature)\n",
    "\n",
    "# Given a matrix, a whole list of features, a list of possible features and a feature name\n",
    "# It calculates the rss values of a given feature\n",
    "def getRSS(matrix, allFeatures, feature):\n",
    "    colIndex = getColumnIndex(allFeatures, feature)\n",
    "\n",
    "    # candidates are different data values of a certain feature.\n",
    "    # All of them are tried in order to find the best RSS value.\n",
    "    # Set operation is to reduce complexity with duplicates. Duplicates can be very common.\n",
    "    candidatePoints = np.array(list(set(matrix[:, colIndex])))\n",
    "\n",
    "    # Some initializations, guaranteed to change.\n",
    "    bestRSS = 9999999\n",
    "    rss = np.zeros(candidatePoints.shape)\n",
    "    threshold = -1\n",
    "    \n",
    "    # For each threshold candidate, calculate Rss values\n",
    "    for index, point in enumerate(candidatePoints):\n",
    "\n",
    "        # Data is split into 2 parts according to the 'feature' value it has.\n",
    "        \n",
    "        # Split data to left if value in colIndex'th column is less than point.\n",
    "        # or to the right if it is greater than or equal to point\n",
    "        leftSide = matrix[matrix[:, colIndex] < point, :]\n",
    "        rightSide = matrix[matrix[:, colIndex] >= point, :]\n",
    "\n",
    "        # mean y values in the left split\n",
    "        leftSideY = leftSide[:, -1]\n",
    "        if (leftSideY.any()):\n",
    "            leftMean = np.mean(leftSideY)\n",
    "        else:\n",
    "            leftMean = 0\n",
    "        \n",
    "        # mean y values in the right split\n",
    "        rightSideY = rightSide[:, -1]\n",
    "        if (rightSideY.any()):\n",
    "            rightMean = np.mean(rightSideY)\n",
    "        else:\n",
    "            rightMean = 0\n",
    "\n",
    "        # RSS values of left and right splits and summation.\n",
    "        leftRSS = np.sum((leftSideY- leftMean) ** 2)\n",
    "        rightRSS = np.sum((rightSideY - rightMean) ** 2)\n",
    "        sumRSS = leftRSS + rightRSS\n",
    "        rss[index] = sumRSS\n",
    "\n",
    "        # If this rss value is less than overall best rss, then update the best rss and thresholds.\n",
    "        if (sumRSS < bestRSS):\n",
    "            threshold = point\n",
    "            bestRSS = sumRSS\n",
    "    return bestRSS, threshold, rss, candidatePoints"
   ]
  },
  {
   "cell_type": "code",
   "execution_count": 6,
   "metadata": {},
   "outputs": [
    {
     "data": {
      "image/png": "[encoded data removed]",
      "text/plain": [
       "<Figure size 432x288 with 1 Axes>"
      ]
     },
     "metadata": {
      "needs_background": "light"
     },
     "output_type": "display_data"
    }
   ],
   "source": [
    "# Calculate the best threshold for the most correlated and least correlated features \n",
    "_, _, MCF_rss, MCF_points = getRSS(allInOneMatrix, features, most_correlated_feature)\n",
    "_, _, LCF_rss, LCF_points = getRSS(allInOneMatrix, features, least_correlated_feature)\n",
    "\n",
    "plt.scatter(MCF_points, MCF_rss, color='orange')\n",
    "plt.scatter(LCF_points, LCF_rss)\n",
    "plt.title(f'Threshold-RSS Plot for features {most_correlated_feature} and {least_correlated_feature}')\n",
    "plt.legend([f\"Most Corr: {most_correlated_feature}\", f\"Least Corr: {least_correlated_feature}\"])\n",
    "plt.xlabel('Thresholds')\n",
    "plt.ylabel('Sum of Squared Residuals')\n",
    "plt.show()"
   ]
  },
  {
   "cell_type": "markdown",
   "metadata": {},
   "source": [
    "**(45 pts)** Now implement the training procedure of a regression tree using $RSS$ as split criteria. Build a rule tree recursively by traversing all features and considering each split threshold to find the optimum split, at every node.\n",
    "\n",
    "You are free to implement training procedure as a standalone function or part of a class, but in any case use maximum depth as the stopping condition."
   ]
  },
  {
   "cell_type": "code",
   "execution_count": 7,
   "metadata": {},
   "outputs": [],
   "source": [
    "# Node class are the tree nodes and stores the threshold\n",
    "# and feature that best split the tree.\n",
    "class Node():\n",
    "    def __init__(self, feature):\n",
    "        self.name = feature\n",
    "        self.threshold = -1\n",
    "        self.left = None\n",
    "        self.right = None"
   ]
  },
  {
   "cell_type": "code",
   "execution_count": 8,
   "metadata": {},
   "outputs": [],
   "source": [
    "# Given a list of features that are potential candidates to split a tree\n",
    "# Algorithm tries each one of them to find the best feature with least RSS\n",
    "def getBestRss(matrix, allFeatures, featuresToBeChosen):\n",
    "    bestRss = 9999999\n",
    "    bestThreshold = 9999999\n",
    "    bestFeature = None\n",
    "    for feature in featuresToBeChosen: # Iterate over each feature possible\n",
    "        rss, threshold, _, _ = getRSS(matrix, allFeatures, feature)\n",
    "        if (rss < bestRss): # update if these are the better than best so far.\n",
    "            bestRss = rss\n",
    "            bestThreshold = threshold\n",
    "            bestFeature = feature\n",
    "\n",
    "    return bestThreshold, bestFeature"
   ]
  },
  {
   "cell_type": "code",
   "execution_count": 9,
   "metadata": {},
   "outputs": [],
   "source": [
    "# Algorithm uses a recursion strategy, updates tree, depth and splits at each iteration\n",
    "# Each iteration finds the best threshold and feature pair that give least RSS\n",
    "# Then, splits the tree from there. Node class holds the information of split.\n",
    "# Left and right subtrees are split again until the depth exceeds the maximum depth given.\n",
    "\n",
    "# splits: Which feature splits make me reach at this level\n",
    "# tree: Initially 400x14 data\n",
    "# depth: Depth of the tree\n",
    "# maxDepth: stopping condition\n",
    "# allFeatures: all the feature names\n",
    "def createTree(tree, depth, maxDepth, allFeatures, splits):\n",
    "    if (depth > maxDepth):\n",
    "        return None\n",
    "    \n",
    "    # Possible feature names to split the tree\n",
    "    # Since I will not use the same feature again to split tree.\n",
    "    featuresToBeChosen = list(set(allFeatures) - set(splits)) \n",
    "    \n",
    "    # Best threshold and feature pair to split the data\n",
    "    threshold, feature = getBestRss(tree, allFeatures, featuresToBeChosen)\n",
    "\n",
    "    # Node class stores information about the split\n",
    "    node = Node(feature)\n",
    "    node.threshold = threshold\n",
    "    node.estimate = np.mean(tree[:, -1])\n",
    "    \n",
    "    # column index of feature\n",
    "    index = getColumnIndex(allFeatures, feature)\n",
    "    # Selects the rows that feature column value is less than or equal to threshold\n",
    "    leftFilter = tree[:, index] < threshold\n",
    "    # Selects the rows that feature column value is greater than threshold    \n",
    "    rightFilter = tree[:, index] >= threshold\n",
    "\n",
    "    # Add the selected feature to 'splits' list\n",
    "    splits.append(feature)\n",
    "    splitsSoFarL = splits.copy()  # Python architectural problems led me into this solution.\n",
    "    splitsSoFarR = splits.copy()  # Independent subtrees were able to change other's lists.So, I used deep copy of lists\n",
    "\n",
    "    # Apply filters, split data\n",
    "    leftPart = tree[leftFilter, :]\n",
    "    rightPart = tree[rightFilter, :]\n",
    "    \n",
    "    # If no data is present after split, then nothing is done. Else, recursion method is called for subtree with depth incremented\n",
    "    if (np.any(leftPart)):\n",
    "        node.left = createTree(leftPart, depth + 1, maxDepth, allFeatures, splitsSoFarL)\n",
    "    if (np.any(rightPart)):\n",
    "        node.right = createTree(rightPart, depth + 1, maxDepth, allFeatures, splitsSoFarR)\n",
    "\n",
    "    return node # A root node of each subtree is returned."
   ]
  },
  {
   "cell_type": "markdown",
   "metadata": {},
   "source": [
    "**(15 pts)** Having implemented the regression tree, now write a procedure to predict test features. Given a sample, this procedure should follow the rules learned during the training to arrive at a leaf and predict the output as the mean output of the arrived leaf samples. \n",
    "\n",
    "If you have implemented a regression tree class, you can insert this procedure as a class function "
   ]
  },
  {
   "cell_type": "code",
   "execution_count": 10,
   "metadata": {},
   "outputs": [],
   "source": [
    "# Predict method gets a sample test 1x1 data and predicts its price\n",
    "# Algorithm uses the node that is created with createTree method. \n",
    "# Node has left and right nodes, threshold and features\n",
    "# By comparing threshold value with sample's column's value. It either goes left or right\n",
    "def predict(data, features, node, sample):\n",
    "    temp = node\n",
    "    while (temp):\n",
    "        feature = temp.name\n",
    "        columnIndex = getColumnIndex(features, feature)\n",
    "        value = sample[columnIndex]\n",
    "        if (value < temp.threshold): # If value is less than threshold, get left subtree and move to left node\n",
    "            a = data[data[:, columnIndex] < temp.threshold, :]\n",
    "            if (not a.any()):\n",
    "                break\n",
    "            data = a\n",
    "            temp = temp.left\n",
    "        else: # If value is greater than threshold, get right subtree and move to right node\n",
    "            a = data[data[:, columnIndex] >= temp.threshold, :]\n",
    "            if (not a.any()):\n",
    "                break\n",
    "            data = a\n",
    "            temp = temp.right\n",
    "    prediction = np.mean(data[:, -1])\n",
    "    return prediction"
   ]
  },
  {
   "cell_type": "markdown",
   "metadata": {},
   "source": [
    "**(5 pts)** Train your model using a max depth of 3 and visualize the resulting tree. You can use an external tool such as draw.io or LaTeX for drawing. Annotate the nodes with split columns and thresholds. You can view the tree in this [link](https://scikit-learn.org/stable/modules/tree.html#tree) as an example. "
   ]
  },
  {
   "cell_type": "code",
   "execution_count": 11,
   "metadata": {},
   "outputs": [],
   "source": [
    "node = createTree(allInOneMatrix, 1, 3, features, [])"
   ]
  },
  {
   "cell_type": "code",
   "execution_count": 12,
   "metadata": {},
   "outputs": [
    {
     "data": {
      "text/plain": [
       "'LSTAT'"
      ]
     },
     "execution_count": 12,
     "metadata": {},
     "output_type": "execute_result"
    }
   ],
   "source": [
    "node.right.name"
   ]
  },
  {
   "cell_type": "markdown",
   "metadata": {},
   "source": [
    "## **(10 pts)** Task 3: Evaluation"
   ]
  },
  {
   "cell_type": "markdown",
   "metadata": {},
   "source": [
    "**(5 pts)** Now is time to pick the best maximum depth and observe your tree's performance! Implement a 5-fold cross validation procedure to experiment with maximum depths from 3 to 10. Report mean and standard deviation for each depth and pick the best one. For comparison you can use $R^2$, which is a metric frequently used to evaluate regression models. You can use `r2_score` function of `scikit-learn` and read more [here](https://scikit-learn.org/stable/modules/model_evaluation.html#r2-score)."
   ]
  },
  {
   "cell_type": "code",
   "execution_count": 13,
   "metadata": {},
   "outputs": [],
   "source": [
    "# This part divides training set into 5 equal parts.\n",
    "# Then, create 5 different validation set, each excluding one part of the training data\n",
    "# Code structure is taken from our first project validation set.\n",
    "# X_train_sets have 5 different validation sets each excluding X_part at corresponding indexes.\n",
    "\n",
    "def parser(X_train, S):\n",
    "    np.random.shuffle(X_train)\n",
    "    X_part = np.split(X_train, S, axis=0)  # X is split into 5\n",
    "\n",
    "    X_train_sets = []\n",
    "\n",
    "    X_train_set_1 = np.concatenate((X_part[1], X_part[2], X_part[3], X_part[4]), axis=0)\n",
    "    X_train_set_2 = np.concatenate((X_part[0], X_part[2], X_part[3], X_part[4]), axis=0)\n",
    "    X_train_set_3 = np.concatenate((X_part[0], X_part[1], X_part[3], X_part[4]), axis=0)\n",
    "    X_train_set_4 = np.concatenate((X_part[0], X_part[1], X_part[2], X_part[4]), axis=0)\n",
    "    X_train_set_5 = np.concatenate((X_part[0], X_part[1], X_part[2], X_part[3]), axis=0)\n",
    "\n",
    "    X_train_sets.append(X_train_set_1)\n",
    "    X_train_sets.append(X_train_set_2)\n",
    "    X_train_sets.append(X_train_set_3)\n",
    "    X_train_sets.append(X_train_set_4)\n",
    "    X_train_sets.append(X_train_set_5)\n",
    "\n",
    "    return X_train_sets, X_part\n",
    "crossValidationSets, crossValidationTests = parser(allInOneMatrix, 5)"
   ]
  },
  {
   "cell_type": "code",
   "execution_count": 14,
   "metadata": {},
   "outputs": [],
   "source": [
    "maxDepths = [i for i in range(3, 11)] # Create 8 different maximum depths for testing\n",
    "# Create a 5x8 matrix for results\n",
    "# Rows of results are for validation set numbers\n",
    "# Columns are for different maximum depths\n",
    "results = [[0 for j in range(len(maxDepths))] for i in range(len(crossValidationSets))] \n",
    "\n",
    "for i in range(len(crossValidationSets)): # For each validation set is trained\n",
    "    for di, maxDepth in enumerate(maxDepths): # with 8 different max depths\n",
    "        node = createTree(crossValidationSets[i], 1, maxDepth, features, []) # Create our tree \n",
    "        predicts = np.zeros(crossValidationTests[i].shape[0]) # predictions will be stored in this variable\n",
    "        \n",
    "        for ind, testRow in enumerate(crossValidationTests[i]): # For each test row in validation set\n",
    "            p = predict(crossValidationSets[i], features, node, testRow) # Get the prediction\n",
    "            predicts[ind] = p # Put it in the variable\n",
    "        score = r2_score(crossValidationTests[i][:, -1], predicts) #Calculate the r2 score\n",
    "        results[i][di] = score \n",
    "\n",
    "means = np.mean(np.array(results), axis=0)\n",
    "stds = np.std(np.array(results), axis=0)"
   ]
  },
  {
   "cell_type": "code",
   "execution_count": 15,
   "metadata": {},
   "outputs": [
    {
     "name": "stdout",
     "output_type": "stream",
     "text": [
      "+------------+--------+--------+--------+--------+--------+--------+--------+--------+\n",
      "| Max depths |   3    |   4    |   5    |   6    |   7    |   8    |   9    |   10   |\n",
      "+------------+--------+--------+--------+--------+--------+--------+--------+--------+\n",
      "|  R2 Mean   | 0.6762 | 0.7158 | 0.7031 | 0.6978 | 0.6786 | 0.6641 | 0.659  | 0.6567 |\n",
      "|   R2 Std   | 0.1063 | 0.0764 | 0.0858 | 0.0697 | 0.0685 | 0.0773 | 0.0714 | 0.0714 |\n",
      "+------------+--------+--------+--------+--------+--------+--------+--------+--------+\n"
     ]
    }
   ],
   "source": [
    "table = PrettyTable()\n",
    "table.field_names = ['Max depths'] + [str(dpth) for dpth in maxDepths]\n",
    "table.add_row([\"R2 Mean\"] + [str(round(mn,4)) for mn in means])\n",
    "table.add_row([\"R2 Std\"] + [str(round(st,4)) for st in stds])\n",
    "print(table)"
   ]
  },
  {
   "cell_type": "markdown",
   "metadata": {},
   "source": [
    "**(5 pts)** To conclude, train your tree one last time on the whole training data with the depth you picked in the previous section. Generate predictions on both training and test sets and report $R^2$ scores."
   ]
  },
  {
   "cell_type": "code",
   "execution_count": 16,
   "metadata": {},
   "outputs": [
    {
     "name": "stdout",
     "output_type": "stream",
     "text": [
      "\n",
      "Best Max Depth: 4\n",
      "Training Score: 0.8594\n",
      "Test Score: 0.7427\n"
     ]
    }
   ],
   "source": [
    "bestDepth = maxDepths[list(means).index(max(means))] # Get the best depth from the results above\n",
    "print('\\nBest Max Depth:', str(bestDepth))\n",
    "node = createTree(allInOneMatrix, 1, bestDepth, features, []) # Run the tree with the best depth again\n",
    "\n",
    "#### TRAINING RESULT #####\n",
    "predicts = np.zeros(len(allInOneMatrix))\n",
    "for ind, sample in enumerate(allInOneMatrix):\n",
    "    p = predict(allInOneMatrix, features, node, sample)\n",
    "    predicts[ind] = p\n",
    "score = r2_score(allInOneMatrix[:, -1], predicts)\n",
    "print('Training Score:', round(score, 4))\n",
    "\n",
    "#### TEST RESULT #####\n",
    "predicts = np.zeros(len(X_test))\n",
    "for ind, sample in enumerate(X_test):\n",
    "    p = predict(allInOneMatrix, features, node, sample)\n",
    "    predicts[ind] = p\n",
    "score = r2_score(y_test, predicts)\n",
    "\n",
    "print('Test Score:', round(score, 4))"
   ]
  }
 ],
 "metadata": {
  "kernelspec": {
   "display_name": "Python 3",
   "language": "python",
   "name": "python3"
  },
  "language_info": {
   "codemirror_mode": {
    "name": "ipython",
    "version": 3
   },
   "file_extension": ".py",
   "mimetype": "text/x-python",
   "name": "python",
   "nbconvert_exporter": "python",
   "pygments_lexer": "ipython3",
   "version": "3.7.1"
  }
 },
 "nbformat": 4,
 "nbformat_minor": 4
}
